{
 "cells": [
  {
   "cell_type": "code",
   "execution_count": 1,
   "metadata": {},
   "outputs": [
    {
     "name": "stdout",
     "output_type": "stream",
     "text": [
      "10\n",
      "{'NO': [[1, 2, 3, 4, 5, 6, 7, 8, 9, 10]], 'Name': [['20191102_2312_Flight_01_00002.JPG', '20191102_2312_Flight_01_00003.JPG', '20191102_2312_Flight_01_00004.JPG', '20191102_2312_Flight_01_00005.JPG', '20191102_2312_Flight_01_00006.JPG', '20191102_2312_Flight_01_00007.JPG', '20191102_2312_Flight_01_00008.JPG', '20191102_2312_Flight_01_00009.JPG', '20191102_2312_Flight_01_00010.JPG', '20191102_2312_Flight_01_00011.JPG']], 'Location': [[((22.0, 53.0, 35.13), 'N', (55.0, 15.0, 6.1), 'E'), ((22.0, 53.0, 34.82), 'N', (55.0, 15.0, 6.7), 'E'), ((22.0, 53.0, 34.52), 'N', (55.0, 15.0, 7.3), 'E'), ((22.0, 53.0, 34.2), 'N', (55.0, 15.0, 7.9), 'E'), ((22.0, 53.0, 33.88), 'N', (55.0, 15.0, 8.49), 'E'), ((22.0, 53.0, 33.56), 'N', (55.0, 15.0, 9.08), 'E'), ((22.0, 53.0, 33.24), 'N', (55.0, 15.0, 9.67), 'E'), ((22.0, 53.0, 32.92), 'N', (55.0, 15.0, 10.26), 'E'), ((22.0, 53.0, 32.6), 'N', (55.0, 15.0, 10.86), 'E'), ((22.0, 53.0, 32.29), 'N', (55.0, 15.0, 11.45), 'E')]]}\n"
     ]
    }
   ],
   "source": [
    "import os\n",
    "import glob\n",
    "import cv2\n",
    "from PIL import Image\n",
    "from PIL.ExifTags import TAGS, GPSTAGS\n",
    "\n",
    "filepath = 'C:\\\\Users\\\\sami\\\\Desktop\\\\test images\\\\*.*'\n",
    "\n",
    "list_images = []\n",
    "NO =[]\n",
    "images_location =[]\n",
    "geotagging = {}\n",
    "\n",
    "# Extract Images Location\n",
    "def get_geotagging(exif):\n",
    "    if not exif:\n",
    "        raise ValueError(\"No EXIF metadata found\")\n",
    "    \n",
    "    for (idx, tag) in TAGS.items():\n",
    "        if tag == 'GPSInfo':\n",
    "            if idx not in exif:\n",
    "                raise ValueError(\"No EXIF geotagging found\")\n",
    "\n",
    "            for (key, val) in GPSTAGS.items():\n",
    "                if key in exif[idx]:\n",
    "                    geotagging[val] = exif[idx][key]                 \n",
    "\n",
    "    return geotagging\n",
    "\n",
    "def get_dms(dms):    \n",
    "    degrees = dms[0][0] / dms[0][1]\n",
    "    minutes = dms[1][0] / dms[1][1] \n",
    "    seconds = dms[2][0] / dms[2][1] \n",
    "    \n",
    "    return round (degrees,2) , round (minutes,2) , round (seconds,2)\n",
    "\n",
    "def get_coordinates_dms(geatags):\n",
    "    lat = get_dms(geotags['GPSLatitude'])\n",
    "    lon = get_dms(geotags['GPSLongitude'])\n",
    "\n",
    "    return lat, geotags['GPSLatitudeRef'], lon, geotags['GPSLongitudeRef']\n",
    "\n",
    "\n",
    "for bb,f1 in enumerate (glob.glob(filepath)):   \n",
    "    img = cv2.imread(f1) # read image\n",
    "    \n",
    "    #Extract images names\n",
    "    img_name = os.path.basename(f1)   \n",
    "    list_images.append(img_name)\n",
    "    \n",
    "    #image loctaion\n",
    "    exif = Image.open(f1)._getexif()\n",
    "    geotags = get_geotagging(exif)\n",
    "    images_location.append(get_coordinates_dms(geotags))\n",
    "\n",
    "    \n",
    "# calculate number of images\n",
    "No_images = len(list_images)\n",
    "print(No_images)\n",
    "#print(list_images)\n",
    "#print(images_location)\n",
    "\n",
    "# Generate Sequence Numbers\n",
    "NO =[]\n",
    "for i in range(2000):\n",
    "    if i < (len(list_images)):\n",
    "        \n",
    "        NO.append(i+1)\n",
    "#print (NO)\n",
    "\n",
    "\n",
    "# Create Dictionary\n",
    "keys = ['NO', 'Name', 'Location']\n",
    "subject = [NO,list_images,images_location]\n",
    "report_dic = {z[0]:list(z[1:]) for z in zip(keys* len(subject),subject)}\n",
    "\n",
    "#print(report_dic[\"Name\"][0][2])\n",
    "\n",
    "print (report_dic)\n",
    "#print (len(report_dic))"
   ]
  },
  {
   "cell_type": "code",
   "execution_count": null,
   "metadata": {},
   "outputs": [],
   "source": []
  }
 ],
 "metadata": {
  "kernelspec": {
   "display_name": "Python 3",
   "language": "python",
   "name": "python3"
  },
  "language_info": {
   "codemirror_mode": {
    "name": "ipython",
    "version": 3
   },
   "file_extension": ".py",
   "mimetype": "text/x-python",
   "name": "python",
   "nbconvert_exporter": "python",
   "pygments_lexer": "ipython3",
   "version": "3.7.4"
  }
 },
 "nbformat": 4,
 "nbformat_minor": 2
}
