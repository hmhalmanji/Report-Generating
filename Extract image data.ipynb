{
 "cells": [
  {
   "cell_type": "code",
   "execution_count": 2,
   "metadata": {},
   "outputs": [
    {
     "name": "stdout",
     "output_type": "stream",
     "text": [
      "dict_keys(['Image ImageDescription', 'Image Make', 'Image Model', 'Image Orientation', 'Image XResolution', 'Image YResolution', 'Image ResolutionUnit', 'Image Software', 'Image DateTime', 'Image YCbCrPositioning', 'Image ExifOffset', 'Image PrintIM', 'GPS GPSVersionID', 'GPS GPSLatitudeRef', 'GPS GPSLatitude', 'GPS GPSLongitudeRef', 'GPS GPSLongitude', 'GPS GPSAltitudeRef', 'GPS GPSAltitude', 'GPS GPSMapDatum', 'Image GPSInfo', 'IFD 2 Tag 0xB8DB', 'IFD 2 Tag 0x4472', 'IFD 2 Tag 0x70C1', 'IFD 2 Tag 0x19BB', 'IFD 2 Tag 0x7600', 'IFD 2 Tag 0x5491', 'IFD 2 Tag 0xF989', 'IFD 2 Tag 0x1935', 'EXIF ExposureTime', 'EXIF FNumber', 'EXIF ExposureProgram', 'EXIF ISOSpeedRatings', 'EXIF SensitivityType', 'EXIF RecommendedExposureIndex', 'EXIF ExifVersion', 'EXIF DateTimeOriginal', 'EXIF DateTimeDigitized', 'EXIF ComponentsConfiguration', 'EXIF CompressedBitsPerPixel', 'EXIF BrightnessValue', 'EXIF ExposureBiasValue', 'EXIF MaxApertureValue', 'EXIF MeteringMode', 'EXIF LightSource', 'EXIF Flash', 'EXIF FocalLength', 'EXIF MakerNote', 'EXIF UserComment', 'EXIF FlashPixVersion', 'EXIF ColorSpace', 'EXIF ExifImageWidth', 'EXIF ExifImageLength', 'Interoperability InteroperabilityIndex', 'Interoperability InteroperabilityVersion', 'EXIF InteroperabilityOffset', 'EXIF FileSource', 'EXIF SceneType', 'EXIF CustomRendered', 'EXIF ExposureMode', 'EXIF WhiteBalance', 'EXIF DigitalZoomRatio', 'EXIF FocalLengthIn35mmFilm', 'EXIF SceneCaptureType', 'EXIF Contrast', 'EXIF Saturation', 'EXIF Sharpness', 'EXIF LensSpecification'])\n",
      "{'EXIF BrightnessValue': (0x9203) Signed Ratio=13027/1280 @ 804,\n",
      " 'EXIF ColorSpace': (0xA001) Short=sRGB @ 552,\n",
      " 'EXIF ComponentsConfiguration': (0x9101) Undefined=YCbCr @ 408,\n",
      " 'EXIF CompressedBitsPerPixel': (0x9102) Ratio=3 @ 796,\n",
      " 'EXIF Contrast': (0xA408) Short=Normal @ 696,\n",
      " 'EXIF CustomRendered': (0xA401) Short=Normal @ 624,\n",
      " 'EXIF DateTimeDigitized': (0x9004) ASCII=2019:12:07 07:50:24 @ 776,\n",
      " 'EXIF DateTimeOriginal': (0x9003) ASCII=2019:12:07 09:52:42 @ 756,\n",
      " 'EXIF DigitalZoomRatio': (0xA404) Ratio=1 @ 34202,\n",
      " 'EXIF ExifImageLength': (0xA003) Long=5304 @ 576,\n",
      " 'EXIF ExifImageWidth': (0xA002) Long=7952 @ 564,\n",
      " 'EXIF ExifVersion': (0x9000) Undefined=0230 @ 372,\n",
      " 'EXIF ExposureBiasValue': (0x9204) Signed Ratio=-3/10 @ 812,\n",
      " 'EXIF ExposureMode': (0xA402) Short=Manual Exposure @ 636,\n",
      " 'EXIF ExposureProgram': (0x8822) Short=Manual @ 324,\n",
      " 'EXIF ExposureTime': (0x829A) Ratio=1/2000 @ 740,\n",
      " 'EXIF FNumber': (0x829D) Ratio=9/2 @ 748,\n",
      " 'EXIF FileSource': (0xA300) Undefined=Digital Camera @ 600,\n",
      " 'EXIF Flash': (0x9209) Short=Flash did not fire, compulsory flash mode @ 492,\n",
      " 'EXIF FlashPixVersion': (0xA000) Undefined=0100 @ 540,\n",
      " 'EXIF FocalLength': (0x920A) Ratio=35 @ 828,\n",
      " 'EXIF FocalLengthIn35mmFilm': (0xA405) Short=35 @ 672,\n",
      " 'EXIF ISOSpeedRatings': (0x8827) Short=160 @ 336,\n",
      " 'EXIF InteroperabilityOffset': (0xA005) Long=34242 @ 588,\n",
      " 'EXIF LensSpecification': (0xA432) Ratio=[35, 35, 2, 2] @ 34210,\n",
      " 'EXIF LightSource': (0x9208) Short=Unknown @ 480,\n",
      " 'EXIF MakerNote': (0x927C) Undefined=[83, 79, 78, 89, 32, 68, 83, 67, 32, 0, 0, 0, 94, 0, 3, 16, 4, 0, 16, 0, ... ] @ 836,\n",
      " 'EXIF MaxApertureValue': (0x9205) Ratio=2 @ 820,\n",
      " 'EXIF MeteringMode': (0x9207) Short=Pattern @ 468,\n",
      " 'EXIF RecommendedExposureIndex': (0x8832) Long=160 @ 360,\n",
      " 'EXIF Saturation': (0xA409) Short=Normal @ 708,\n",
      " 'EXIF SceneCaptureType': (0xA406) Short=Standard @ 684,\n",
      " 'EXIF SceneType': (0xA301) Undefined=Directly Photographed @ 612,\n",
      " 'EXIF SensitivityType': (0x8830) Short=Recommended Exposure Index @ 348,\n",
      " 'EXIF Sharpness': (0xA40A) Short=Normal @ 720,\n",
      " 'EXIF UserComment': (0x9286) Undefined=[0, 0, 0, 0, 0, 0, 0, 0, 0, 0, 0, 0, 0, 0, 0, 0, 0, 0, 0, 0, 0, 0, 0, 0, 0, 0, 0, 0, 0, 0, 0, 0, 0, 0, 0, 0, 0, 0, 0, 0, 0, 0, 0, 0, 0, 0, 0, 0, 0, 0, 0, 0, 0, 0, 0, 0] @ 34138,\n",
      " 'EXIF WhiteBalance': (0xA403) Short=Auto @ 648,\n",
      " 'GPS GPSAltitude': (0x0006) Ratio=1825547/10000 @ 34422,\n",
      " 'GPS GPSAltitudeRef': (0x0005) Byte=0 @ 34342,\n",
      " 'GPS GPSLatitude': (0x0002) Ratio=[22, 52, 14040719/2500000] @ 34374,\n",
      " 'GPS GPSLatitudeRef': (0x0001) ASCII=N @ 34294,\n",
      " 'GPS GPSLongitude': (0x0004) Ratio=[55, 20, 1492527/25000] @ 34398,\n",
      " 'GPS GPSLongitudeRef': (0x0003) ASCII=E @ 34318,\n",
      " 'GPS GPSMapDatum': (0x0012) ASCII=WGS84 @ 34430,\n",
      " 'GPS GPSVersionID': (0x0000) Byte=[2, 0, 0, 0] @ 34282,\n",
      " 'IFD 2 Tag 0x1935': (0x1935) Short=[] @ 4002581182,\n",
      " 'IFD 2 Tag 0x19BB': (0x19BB) Short=[] @ 1779415483,\n",
      " 'IFD 2 Tag 0x4472': (0x4472) Signed Long=[] @ 620655549,\n",
      " 'IFD 2 Tag 0x5491': (0x5491) Long=[] @ 3514474299,\n",
      " 'IFD 2 Tag 0x70C1': (0x70C1) Signed Byte=[] @ 3551862509,\n",
      " 'IFD 2 Tag 0x7600': (0x7600) Undefined=[] @ 2928326600,\n",
      " 'IFD 2 Tag 0xB8DB': (0xB8DB) Undefined=[] @ 2571851130,\n",
      " 'IFD 2 Tag 0xF989': (0xF989) Signed Ratio=[] @ 840390887,\n",
      " 'Image DateTime': (0x0132) ASCII=2019:12:07 09:52:42 @ 242,\n",
      " 'Image ExifOffset': (0x8769) Long=290 @ 138,\n",
      " 'Image GPSInfo': (0x8825) Long=34272 @ 162,\n",
      " 'Image ImageDescription': (0x010E) ASCII=                    @ 170,\n",
      " 'Image Make': (0x010F) ASCII=SONY @ 190,\n",
      " 'Image Model': (0x0110) ASCII=DSC-RX1RM2 @ 196,\n",
      " 'Image Orientation': (0x0112) Short=Horizontal (normal) @ 54,\n",
      " 'Image PrintIM': (0xC4A5) Undefined=[80, 114, 105, 110, 116, 73, 77, 0, 48, 51, 48, 48, 0, 0, 2, 0, 2, 0, 1, 0, 0, 0, 1, 1, 1, 0, 0, 0] @ 262,\n",
      " 'Image ResolutionUnit': (0x0128) Short=Pixels/Inch @ 90,\n",
      " 'Image Software': (0x0131) ASCII=DSC-RX1RM2 v1.00 @ 224,\n",
      " 'Image XResolution': (0x011A) Ratio=350 @ 208,\n",
      " 'Image YCbCrPositioning': (0x0213) Short=Co-sited @ 126,\n",
      " 'Image YResolution': (0x011B) Ratio=350 @ 216,\n",
      " 'Interoperability InteroperabilityIndex': (0x0001) ASCII=R98 @ 34252,\n",
      " 'Interoperability InteroperabilityVersion': (0x0002) Undefined=[48, 49, 48, 48] @ 34264}\n"
     ]
    }
   ],
   "source": [
    "import exifread\n",
    "import pprint\n",
    "\n",
    "f = open('test.jpg', 'rb')\n",
    "\n",
    "# Return Exif tags\n",
    "tags = exifread.process_file(f)\n",
    "print(tags.keys())\n",
    "pprint.pprint(tags)\n",
    "f.close()\n"
   ]
  },
  {
   "cell_type": "code",
   "execution_count": 4,
   "metadata": {},
   "outputs": [
    {
     "name": "stdout",
     "output_type": "stream",
     "text": [
      "((22.0, 52.0, 5.62), 'N', (55.0, 20.0, 59.7), 'E')\n",
      "(22.86823, 55.34992)\n"
     ]
    }
   ],
   "source": [
    "from PIL.ExifTags import GPSTAGS\n",
    "from PIL.ExifTags import TAGS\n",
    "from PIL import Image\n",
    "\n",
    "geotagging = {}\n",
    "def get_geotagging(exif):\n",
    "    if not exif:\n",
    "        raise ValueError(\"No EXIF metadata found\")\n",
    "    \n",
    "    for (idx, tag) in TAGS.items():\n",
    "        if tag == 'GPSInfo':\n",
    "            if idx not in exif:\n",
    "                raise ValueError(\"No EXIF geotagging found\")\n",
    "\n",
    "            for (key, val) in GPSTAGS.items():\n",
    "                if key in exif[idx]:\n",
    "                    geotagging[val] = exif[idx][key]                 \n",
    "\n",
    "    return geotagging\n",
    "\n",
    "\n",
    "def get_dms(dms):\n",
    "    \n",
    "    degrees = dms[0][0] / dms[0][1]\n",
    "    minutes = dms[1][0] / dms[1][1] \n",
    "    seconds = dms[2][0] / dms[2][1] \n",
    "    \n",
    "    return round (degrees,2) , round (minutes,2) , round (seconds,2)\n",
    "\n",
    "\n",
    "def get_coordinates_dms(geatags):\n",
    "    lat = get_dms(geotags['GPSLatitude'])\n",
    "\n",
    "    lon = get_dms(geotags['GPSLongitude'])\n",
    "\n",
    "    return lat, geotags['GPSLatitudeRef'], lon, geotags['GPSLongitudeRef']\n",
    "\n",
    "\n",
    "def get_decimal_from_dms(dms, ref):\n",
    "\n",
    "    degrees = dms[0][0] / dms[0][1]\n",
    "    minutes = dms[1][0] / dms[1][1] / 60.0\n",
    "    seconds = dms[2][0] / dms[2][1] / 3600.0\n",
    "\n",
    "    if ref in ['S', 'W']:\n",
    "        degrees = -degrees\n",
    "        minutes = -minutes\n",
    "        seconds = -seconds\n",
    "\n",
    "    return round(degrees + minutes + seconds, 5)\n",
    "\n",
    "\n",
    "def get_coordinates_d(geotags):\n",
    "    lat = get_decimal_from_dms(geotags['GPSLatitude'], geotags['GPSLatitudeRef'])\n",
    "\n",
    "    lon = get_decimal_from_dms(geotags['GPSLongitude'], geotags['GPSLongitudeRef'])\n",
    "\n",
    "    return lat,lon\n",
    "\n",
    "\n",
    "exif = Image.open('test.jpg')._getexif()\n",
    "#exif = get_exif('test.jpg')\n",
    "geotags = get_geotagging(exif)\n",
    "\n",
    "\n",
    "print (get_coordinates_dms(geotags))\n",
    "print(get_coordinates_d(geotags))\n"
   ]
  },
  {
   "cell_type": "code",
   "execution_count": 13,
   "metadata": {},
   "outputs": [
    {
     "name": "stdout",
     "output_type": "stream",
     "text": [
      "2019:12:07 \n"
     ]
    }
   ],
   "source": [
    "from datetime import datetime\n",
    "from PIL import Image\n",
    "import time\n",
    " \n",
    "import exifread\n",
    "with open('test.jpg', 'rb') as fh:\n",
    "    \n",
    "    tags = exifread.process_file(fh, stop_tag=\"EXIF DateTimeOriginal\")\n",
    "    dateTaken = tags[\"EXIF DateTimeOriginal\"]\n",
    "    \n",
    "    onlyDate = ('%.11s' % dateTaken)\n",
    "    print(onlyDate)\n",
    "\n",
    "    #print (dateTaken)"
   ]
  },
  {
   "cell_type": "code",
   "execution_count": 16,
   "metadata": {},
   "outputs": [
    {
     "name": "stdout",
     "output_type": "stream",
     "text": [
      "2019:12:07 \n"
     ]
    }
   ],
   "source": [
    "from PIL import Image\n",
    "\n",
    "im = Image.open('test.jpg')\n",
    "exif = im.getexif()\n",
    "creation_time = exif.get(36867)\n",
    "onlyDate = ('%.11s' % creation_time)\n",
    "print(onlyDate)"
   ]
  },
  {
   "cell_type": "code",
   "execution_count": null,
   "metadata": {},
   "outputs": [],
   "source": []
  }
 ],
 "metadata": {
  "kernelspec": {
   "display_name": "Python 3",
   "language": "python",
   "name": "python3"
  },
  "language_info": {
   "codemirror_mode": {
    "name": "ipython",
    "version": 3
   },
   "file_extension": ".py",
   "mimetype": "text/x-python",
   "name": "python",
   "nbconvert_exporter": "python",
   "pygments_lexer": "ipython3",
   "version": "3.7.4"
  }
 },
 "nbformat": 4,
 "nbformat_minor": 2
}
