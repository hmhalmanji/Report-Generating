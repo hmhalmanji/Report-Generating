{
 "cells": [
  {
   "cell_type": "code",
   "execution_count": 3,
   "metadata": {},
   "outputs": [
    {
     "name": "stdout",
     "output_type": "stream",
     "text": [
      "Type something to test this out: hello\n",
      "Is this what you just said?  hello\n"
     ]
    }
   ],
   "source": [
    "txt = input(\"Type something to test this out: \")\n",
    "\n",
    "# Note that in version 3, the print() function\n",
    "# requires the use of parenthesis.\n",
    "print(\"Is this what you just said? \", txt)"
   ]
  },
  {
   "cell_type": "code",
   "execution_count": 6,
   "metadata": {},
   "outputs": [
    {
     "name": "stdout",
     "output_type": "stream",
     "text": [
      "Enter a number: 78\n",
      "The number you entered is:  78\n"
     ]
    }
   ],
   "source": [
    "# An input is requested and stored in a variable\n",
    "test_text = input (\"Enter a number: \")\n",
    "\n",
    "# Converts the string into a integer. If you need\n",
    "# to convert the user input into decimal format,\n",
    "# the float() function is used instead of int()\n",
    "test_number = int(test_text)\n",
    "\n",
    "# Prints in the console the variable as requested\n",
    "print (\"The number you entered is: \", test_number)"
   ]
  },
  {
   "cell_type": "code",
   "execution_count": 8,
   "metadata": {},
   "outputs": [
    {
     "name": "stdout",
     "output_type": "stream",
     "text": [
      "Tell me your lucky number: 45\n",
      "This is a valid number! Your lucky number is:  45\n"
     ]
    }
   ],
   "source": [
    "test3word = input(\"Tell me your lucky number: \")\n",
    "\n",
    "try:\n",
    "    test3num = int(test3word)\n",
    "    print(\"This is a valid number! Your lucky number is: \", test3num)\n",
    "except ValueError:\n",
    "    print(\"This is not a valid number. It isn't a number at all! This is a string, go and try again. Better luck next time!\")"
   ]
  },
  {
   "cell_type": "code",
   "execution_count": 9,
   "metadata": {},
   "outputs": [
    {
     "name": "stdout",
     "output_type": "stream",
     "text": [
      "What's your name? lk\n",
      "From 1 to 7, how many hours do you play in your mobile?il\n",
      "Error! This is not a number. Try again.\n",
      "What's your name? hafsa\n",
      "From 1 to 7, how many hours do you play in your mobile?2\n",
      "Impressive,  hafsa ! You spent 120 minutes or 7200 seconds in your mobile!\n"
     ]
    }
   ],
   "source": [
    "def example():\n",
    "\n",
    "    # Calls for an infinite loop that keeps executing\n",
    "    # until an exception occurs\n",
    "    while True:\n",
    "        test4word = input(\"What's your name? \")\n",
    "\n",
    "        try:\n",
    "            test4num = int(input(\"From 1 to 7, how many hours do you play in your mobile?\" ))\n",
    "\n",
    "        # If something else that is not the string\n",
    "        # version of a number is introduced, the\n",
    "        # ValueError exception will be called.\n",
    "        except ValueError:\n",
    "            # The cycle will go on until validation\n",
    "            print(\"Error! This is not a number. Try again.\")\n",
    "\n",
    "        # When successfully converted to an integer,\n",
    "        # the loop will end.\n",
    "        else:\n",
    "            print(\"Impressive, \", test4word, \"! You spent\", test4num*60, \"minutes or\", test4num*60*60, \"seconds in your mobile!\")\n",
    "            break\n",
    "\n",
    "# The function is called\n",
    "example()"
   ]
  },
  {
   "cell_type": "code",
   "execution_count": 10,
   "metadata": {},
   "outputs": [
    {
     "name": "stdout",
     "output_type": "stream",
     "text": [
      "Enter a multiple value: 12 23 54 65 98 78 56\n",
      "List of students:  [12, 23, 54, 65, 98, 78, 56]\n"
     ]
    }
   ],
   "source": [
    "x = list(map(int, input(\"Enter a multiple value: \").split())) \n",
    "print(\"List of students: \", x)"
   ]
  },
  {
   "cell_type": "code",
   "execution_count": null,
   "metadata": {},
   "outputs": [],
   "source": []
  }
 ],
 "metadata": {
  "kernelspec": {
   "display_name": "Python 3",
   "language": "python",
   "name": "python3"
  },
  "language_info": {
   "codemirror_mode": {
    "name": "ipython",
    "version": 3
   },
   "file_extension": ".py",
   "mimetype": "text/x-python",
   "name": "python",
   "nbconvert_exporter": "python",
   "pygments_lexer": "ipython3",
   "version": "3.7.4"
  }
 },
 "nbformat": 4,
 "nbformat_minor": 2
}
